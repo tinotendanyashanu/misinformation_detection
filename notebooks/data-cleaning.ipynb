{
 "cells": [
  {
   "cell_type": "code",
   "execution_count": 1,
   "metadata": {
    "execution": {
     "iopub.execute_input": "2025-01-20T03:29:02.873521Z",
     "iopub.status.busy": "2025-01-20T03:29:02.872971Z",
     "iopub.status.idle": "2025-01-20T03:29:04.234144Z",
     "shell.execute_reply": "2025-01-20T03:29:04.233142Z",
     "shell.execute_reply.started": "2025-01-20T03:29:02.873479Z"
    },
    "trusted": true
   },
   "outputs": [],
   "source": [
    "import pandas as pd\n",
    "import numpy as np\n",
    "import re"
   ]
  },
  {
   "cell_type": "code",
   "execution_count": 2,
   "metadata": {
    "execution": {
     "iopub.execute_input": "2025-01-20T03:29:12.643931Z",
     "iopub.status.busy": "2025-01-20T03:29:12.643451Z",
     "iopub.status.idle": "2025-01-20T03:29:28.138366Z",
     "shell.execute_reply": "2025-01-20T03:29:28.137092Z",
     "shell.execute_reply.started": "2025-01-20T03:29:12.643898Z"
    },
    "trusted": true
   },
   "outputs": [],
   "source": [
    "df = pd.read_csv('/kaggle/input/misinformationdataset/new_dataset .csv')"
   ]
  },
  {
   "cell_type": "code",
   "execution_count": 3,
   "metadata": {
    "execution": {
     "iopub.execute_input": "2025-01-20T03:29:31.387050Z",
     "iopub.status.busy": "2025-01-20T03:29:31.386569Z",
     "iopub.status.idle": "2025-01-20T03:29:31.392300Z",
     "shell.execute_reply": "2025-01-20T03:29:31.391078Z",
     "shell.execute_reply.started": "2025-01-20T03:29:31.387016Z"
    },
    "trusted": true
   },
   "outputs": [
    {
     "name": "stdout",
     "output_type": "stream",
     "text": [
      "(316155, 3)\n"
     ]
    }
   ],
   "source": [
    "print(df.shape)"
   ]
  },
  {
   "cell_type": "code",
   "execution_count": 9,
   "metadata": {
    "execution": {
     "iopub.execute_input": "2025-01-20T03:30:01.204129Z",
     "iopub.status.busy": "2025-01-20T03:30:01.203706Z",
     "iopub.status.idle": "2025-01-20T03:30:01.324508Z",
     "shell.execute_reply": "2025-01-20T03:30:01.323331Z",
     "shell.execute_reply.started": "2025-01-20T03:30:01.204096Z"
    },
    "trusted": true
   },
   "outputs": [],
   "source": [
    "df = df.drop_duplicates(subset=['title', 'text', 'label'], keep='first')"
   ]
  },
  {
   "cell_type": "code",
   "execution_count": 10,
   "metadata": {
    "execution": {
     "iopub.execute_input": "2025-01-20T03:30:30.199316Z",
     "iopub.status.busy": "2025-01-20T03:30:30.198897Z",
     "iopub.status.idle": "2025-01-20T03:30:30.204936Z",
     "shell.execute_reply": "2025-01-20T03:30:30.203641Z",
     "shell.execute_reply.started": "2025-01-20T03:30:30.199288Z"
    },
    "trusted": true
   },
   "outputs": [
    {
     "name": "stdout",
     "output_type": "stream",
     "text": [
      "(203425, 3)\n"
     ]
    }
   ],
   "source": [
    "print(df.shape)"
   ]
  },
  {
   "cell_type": "code",
   "execution_count": 11,
   "metadata": {
    "execution": {
     "iopub.execute_input": "2025-01-20T03:32:10.999586Z",
     "iopub.status.busy": "2025-01-20T03:32:10.999195Z",
     "iopub.status.idle": "2025-01-20T03:32:11.004779Z",
     "shell.execute_reply": "2025-01-20T03:32:11.003626Z",
     "shell.execute_reply.started": "2025-01-20T03:32:10.999559Z"
    },
    "trusted": true
   },
   "outputs": [],
   "source": [
    "def handle_missing_title(row):\n",
    "    if pd.isnull(row['title']):\n",
    "        return \"No Title\"\n",
    "    return row['title']"
   ]
  },
  {
   "cell_type": "code",
   "execution_count": 12,
   "metadata": {
    "execution": {
     "iopub.execute_input": "2025-01-20T03:32:22.037043Z",
     "iopub.status.busy": "2025-01-20T03:32:22.036484Z",
     "iopub.status.idle": "2025-01-20T03:32:23.528004Z",
     "shell.execute_reply": "2025-01-20T03:32:23.526937Z",
     "shell.execute_reply.started": "2025-01-20T03:32:22.037007Z"
    },
    "trusted": true
   },
   "outputs": [],
   "source": [
    "df['title'] = df.apply(handle_missing_title, axis=1)\n",
    "df = df.dropna(subset=['text'])  # Drop rows where 'text' is missing"
   ]
  },
  {
   "cell_type": "code",
   "execution_count": 13,
   "metadata": {
    "execution": {
     "iopub.execute_input": "2025-01-20T03:32:30.830583Z",
     "iopub.status.busy": "2025-01-20T03:32:30.829955Z",
     "iopub.status.idle": "2025-01-20T03:32:30.837522Z",
     "shell.execute_reply": "2025-01-20T03:32:30.835770Z",
     "shell.execute_reply.started": "2025-01-20T03:32:30.830546Z"
    },
    "trusted": true
   },
   "outputs": [
    {
     "name": "stdout",
     "output_type": "stream",
     "text": [
      "(203385, 3)\n"
     ]
    }
   ],
   "source": [
    "print(df.shape)"
   ]
  },
  {
   "cell_type": "code",
   "execution_count": 16,
   "metadata": {
    "execution": {
     "iopub.execute_input": "2025-01-20T03:33:13.421409Z",
     "iopub.status.busy": "2025-01-20T03:33:13.421074Z",
     "iopub.status.idle": "2025-01-20T03:33:13.426197Z",
     "shell.execute_reply": "2025-01-20T03:33:13.425101Z",
     "shell.execute_reply.started": "2025-01-20T03:33:13.421381Z"
    },
    "trusted": true
   },
   "outputs": [],
   "source": [
    "def clean_text(text):\n",
    "    text = text.lower()  # Convert to lowercase\n",
    "    text = re.sub(r'http\\S+', '', text)  # Remove URLs\n",
    "    text = re.sub(r'[^a-zA-Z0-9\\s]', '', text)  # Remove special characters\n",
    "    text = re.sub(r'\\s+', ' ', text).strip()  # Remove extra spaces\n",
    "    return text"
   ]
  },
  {
   "cell_type": "code",
   "execution_count": 18,
   "metadata": {
    "execution": {
     "iopub.execute_input": "2025-01-20T03:33:20.614412Z",
     "iopub.status.busy": "2025-01-20T03:33:20.614061Z",
     "iopub.status.idle": "2025-01-20T03:33:50.495881Z",
     "shell.execute_reply": "2025-01-20T03:33:50.494548Z",
     "shell.execute_reply.started": "2025-01-20T03:33:20.614385Z"
    },
    "trusted": true
   },
   "outputs": [],
   "source": [
    "df['text'] = df['text'].apply(clean_text)\n",
    "df['title'] = df['title'].apply(clean_text)\n"
   ]
  },
  {
   "cell_type": "code",
   "execution_count": 19,
   "metadata": {
    "execution": {
     "iopub.execute_input": "2025-01-20T03:34:11.998088Z",
     "iopub.status.busy": "2025-01-20T03:34:11.997721Z",
     "iopub.status.idle": "2025-01-20T03:34:12.010007Z",
     "shell.execute_reply": "2025-01-20T03:34:12.008734Z",
     "shell.execute_reply.started": "2025-01-20T03:34:11.998059Z"
    },
    "trusted": true
   },
   "outputs": [
    {
     "name": "stdout",
     "output_type": "stream",
     "text": [
      "Class Distribution:\n",
      " label\n",
      "1    125708\n",
      "0     77677\n",
      "Name: count, dtype: int64\n"
     ]
    }
   ],
   "source": [
    "class_distribution = df['label'].value_counts()\n",
    "print(\"Class Distribution:\\n\", class_distribution)"
   ]
  },
  {
   "cell_type": "code",
   "execution_count": 20,
   "metadata": {
    "execution": {
     "iopub.execute_input": "2025-01-20T03:35:01.135607Z",
     "iopub.status.busy": "2025-01-20T03:35:01.135252Z",
     "iopub.status.idle": "2025-01-20T03:35:08.367598Z",
     "shell.execute_reply": "2025-01-20T03:35:08.366243Z",
     "shell.execute_reply.started": "2025-01-20T03:35:01.135580Z"
    },
    "trusted": true
   },
   "outputs": [
    {
     "name": "stdout",
     "output_type": "stream",
     "text": [
      "Cleaned dataset saved to cleaned_dataset.csv\n"
     ]
    }
   ],
   "source": [
    "cleaned_path = 'cleaned_dataset.csv'\n",
    "df.to_csv(cleaned_path, index=False)\n",
    "print(f\"Cleaned dataset saved to {cleaned_path}\")"
   ]
  }
 ],
 "metadata": {
  "kaggle": {
   "accelerator": "none",
   "dataSources": [
    {
     "datasetId": 6511699,
     "sourceId": 10521220,
     "sourceType": "datasetVersion"
    }
   ],
   "dockerImageVersionId": 30839,
   "isGpuEnabled": false,
   "isInternetEnabled": true,
   "language": "python",
   "sourceType": "notebook"
  },
  "kernelspec": {
   "display_name": "Python 3",
   "language": "python",
   "name": "python3"
  },
  "language_info": {
   "codemirror_mode": {
    "name": "ipython",
    "version": 3
   },
   "file_extension": ".py",
   "mimetype": "text/x-python",
   "name": "python",
   "nbconvert_exporter": "python",
   "pygments_lexer": "ipython3",
   "version": "3.10.12"
  }
 },
 "nbformat": 4,
 "nbformat_minor": 4
}
